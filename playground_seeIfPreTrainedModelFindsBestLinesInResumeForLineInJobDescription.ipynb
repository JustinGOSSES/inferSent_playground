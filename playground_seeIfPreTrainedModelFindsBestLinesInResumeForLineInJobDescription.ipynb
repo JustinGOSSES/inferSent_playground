{
 "cells": [
  {
   "cell_type": "markdown",
   "metadata": {},
   "source": [
    "## Exploring using pre-trained sentence embeddings to identify lines in resumes that match best lines in job descriptions"
   ]
  },
  {
   "cell_type": "markdown",
   "metadata": {},
   "source": [
    "a quick look"
   ]
  },
  {
   "cell_type": "markdown",
   "metadata": {},
   "source": [
    "### IMPORTS"
   ]
  },
  {
   "cell_type": "code",
   "execution_count": 99,
   "metadata": {},
   "outputs": [],
   "source": [
    "%matplotlib inline\n",
    "\n",
    "from random import randint\n",
    "import numpy as np\n",
    "import torch\n",
    "import shutil\n",
    "import string\n",
    "import nltk.data\n",
    "import matplotlib\n",
    "\n",
    "matplotlib.rcParams['figure.figsize'] = (20.0, 10.0)"
   ]
  },
  {
   "cell_type": "code",
   "execution_count": 103,
   "metadata": {},
   "outputs": [],
   "source": [
    "import urllib"
   ]
  },
  {
   "cell_type": "code",
   "execution_count": 332,
   "metadata": {},
   "outputs": [],
   "source": [
    "import nltk\n",
    "#nltk.download('punkt')"
   ]
  },
  {
   "cell_type": "markdown",
   "metadata": {},
   "source": [
    "##### Referred to this tutorial initially"
   ]
  },
  {
   "cell_type": "markdown",
   "metadata": {},
   "source": [
    "Working from https://github.com/facebookresearch/InferSent/blob/master/demo.ipynb & https://www.kaggle.com/jacksoncrow/infersent-demo?select=glove.840B.300d.txt"
   ]
  },
  {
   "cell_type": "markdown",
   "metadata": {},
   "source": [
    "### Getting inferSent pkl file"
   ]
  },
  {
   "cell_type": "code",
   "execution_count": 3,
   "metadata": {},
   "outputs": [
    {
     "name": "stdout",
     "output_type": "stream",
     "text": [
      "mkdir: encoder: File exists\n",
      "  % Total    % Received % Xferd  Average Speed   Time    Time     Time  Current\n",
      "                                 Dload  Upload   Total   Spent    Left  Speed\n",
      "100  146M  100  146M    0     0  12.1M      0  0:00:12  0:00:12 --:--:-- 11.8M\n",
      "CPU times: user 206 ms, sys: 80.2 ms, total: 286 ms\n",
      "Wall time: 12.3 s\n"
     ]
    }
   ],
   "source": [
    "%%time\n",
    "\n",
    "# TODO: add encoder to dataset as well\n",
    "# If this cell freezes, probably you haven't enabled Internet access for the notebook\n",
    "! mkdir encoder\n",
    "! curl -Lo encoder/infersent1.pkl https://dl.fbaipublicfiles.com/infersent/infersent1.pkl"
   ]
  },
  {
   "cell_type": "markdown",
   "metadata": {},
   "source": [
    "### Getting glove models"
   ]
  },
  {
   "cell_type": "markdown",
   "metadata": {},
   "source": [
    "Glove website = https://nlp.stanford.edu/projects/glove/"
   ]
  },
  {
   "cell_type": "code",
   "execution_count": 101,
   "metadata": {},
   "outputs": [],
   "source": [
    "#### https://nlp.stanford.edu/projects/glove/\n",
    "url_to_glove_840B = \"http://nlp.stanford.edu/data/glove.840B.300d.zip\""
   ]
  },
  {
   "cell_type": "code",
   "execution_count": 102,
   "metadata": {},
   "outputs": [],
   "source": [
    "url_to_glove_6B = \"http://nlp.stanford.edu/data/glove.6B.zip\""
   ]
  },
  {
   "cell_type": "code",
   "execution_count": 104,
   "metadata": {},
   "outputs": [],
   "source": [
    "from urllib.request import urlopen\n",
    "from tempfile import NamedTemporaryFile\n",
    "from shutil import unpack_archive\n",
    "\n"
   ]
  },
  {
   "cell_type": "code",
   "execution_count": 105,
   "metadata": {},
   "outputs": [],
   "source": [
    "##### DOWNLOAD\n",
    "# with urlopen(url_to_glove_6B) as zipresp, NamedTemporaryFile() as tfile:\n",
    "#     tfile.write(zipresp.read())\n",
    "#     tfile.seek(0)\n",
    "#     unpack_archive(tfile.name, 'glove.840B.300d.txt', format = 'zip')"
   ]
  },
  {
   "cell_type": "code",
   "execution_count": 106,
   "metadata": {},
   "outputs": [
    {
     "name": "stdout",
     "output_type": "stream",
     "text": [
      "README.md            extract_features.py  playground_1.ipynb\r\n",
      "\u001b[34m__pycache__\u001b[m\u001b[m/         \u001b[34mglove.6B\u001b[m\u001b[m/            \u001b[34mtokenizers\u001b[m\u001b[m/\r\n",
      "\u001b[34mencoder\u001b[m\u001b[m/             models.py\r\n"
     ]
    }
   ],
   "source": [
    "ls"
   ]
  },
  {
   "cell_type": "markdown",
   "metadata": {},
   "source": [
    "### model parameters"
   ]
  },
  {
   "cell_type": "code",
   "execution_count": 327,
   "metadata": {},
   "outputs": [],
   "source": [
    "model_version = 1\n",
    "MODEL_PATH = \"encoder/infersent%s.pkl\" % model_version\n",
    "W2V_PATH = 'glove.840B.300d.txt'\n",
    "#W2V_PATH = \"glove.6B/glove.6B.300d.txt\"\n",
    "VOCAB_SIZE = 1e5  # Load embeddings of VOCAB_SIZE most frequent words\n",
    "USE_CUDA = False  # Keep it on CPU if False, otherwise will put it on GPU"
   ]
  },
  {
   "cell_type": "markdown",
   "metadata": {},
   "source": [
    "### loading model with pytorch"
   ]
  },
  {
   "cell_type": "code",
   "execution_count": 328,
   "metadata": {},
   "outputs": [
    {
     "data": {
      "text/plain": [
       "<All keys matched successfully>"
      ]
     },
     "execution_count": 328,
     "metadata": {},
     "output_type": "execute_result"
    }
   ],
   "source": [
    "from models import InferSent\n",
    "params_model = {'bsize': 64, 'word_emb_dim': 300, 'enc_lstm_dim': 2048,\n",
    "                'pool_type': 'max', 'dpout_model': 0.0, 'version': model_version}\n",
    "model = InferSent(params_model)\n",
    "model.load_state_dict(torch.load(MODEL_PATH))\n"
   ]
  },
  {
   "cell_type": "code",
   "execution_count": 329,
   "metadata": {},
   "outputs": [
    {
     "name": "stdout",
     "output_type": "stream",
     "text": [
      "Vocab size : 100000.0\n",
      "CPU times: user 8.3 s, sys: 1.41 s, total: 9.71 s\n",
      "Wall time: 10 s\n"
     ]
    }
   ],
   "source": [
    "%%time\n",
    "model = model.cuda() if USE_CUDA else model\n",
    "\n",
    "model.set_w2v_path(W2V_PATH)\n",
    "\n",
    "model.build_vocab_k_words(K=VOCAB_SIZE)"
   ]
  },
  {
   "cell_type": "markdown",
   "metadata": {},
   "source": [
    "### Loading tokenizer to help prep data"
   ]
  },
  {
   "cell_type": "code",
   "execution_count": 333,
   "metadata": {},
   "outputs": [],
   "source": [
    "tokenizer = nltk.data.load('./tokenizers/punkt/english.pickle')"
   ]
  },
  {
   "cell_type": "markdown",
   "metadata": {},
   "source": [
    "### Exploration"
   ]
  },
  {
   "cell_type": "code",
   "execution_count": 330,
   "metadata": {},
   "outputs": [],
   "source": [
    "sentences = ['Everyone really likes the newest benefits',\n",
    " 'The Government Executive articles housed on the website are not able to be searched .',\n",
    " 'I like him for the most part , but would still enjoy seeing someone beat him .',\n",
    " 'My favorite restaurants are always at least a hundred miles away from my house .',\n",
    " 'What a day !',\n",
    " 'What color is it ?',\n",
    " 'I know exactly .']"
   ]
  },
  {
   "cell_type": "markdown",
   "metadata": {},
   "source": [
    "You probably want to move the punk files so next line runs!"
   ]
  },
  {
   "cell_type": "code",
   "execution_count": 334,
   "metadata": {},
   "outputs": [
    {
     "name": "stdout",
     "output_type": "stream",
     "text": [
      "README.md\r\n",
      "\u001b[34m__pycache__\u001b[m\u001b[m/\r\n",
      "\u001b[34mencoder\u001b[m\u001b[m/\r\n",
      "extract_features.py\r\n",
      "\u001b[34mglove.6B\u001b[m\u001b[m/\r\n",
      "glove.840B.300d.txt\r\n",
      "glove.840B.300d.zip\r\n",
      "models.py\r\n",
      "playground_seeIfPreTrainedModelFindsBestLinesInResumeForLineInJobDescription.ipynb\r\n",
      "\u001b[34mtokenizers\u001b[m\u001b[m/\r\n"
     ]
    }
   ],
   "source": [
    "ls"
   ]
  },
  {
   "cell_type": "markdown",
   "metadata": {},
   "source": [
    "#### fuction that uses tokenizer to help prep text data\n"
   ]
  },
  {
   "cell_type": "code",
   "execution_count": 335,
   "metadata": {},
   "outputs": [],
   "source": [
    "def format_text(text):\n",
    "    global tokenizer\n",
    "    padded_text = text.translate(str.maketrans({key: \" {0} \".format(key) for key in string.punctuation}))\n",
    "    return tokenizer.tokenize(padded_text)"
   ]
  },
  {
   "cell_type": "code",
   "execution_count": 336,
   "metadata": {},
   "outputs": [
    {
     "data": {
      "text/plain": [
       "['Everyone really likes the newest benefits .',\n",
       " 'The Government Executive articles housed on the website are not able to be searched .',\n",
       " 'I like him for the most part ,  but would still enjoy seeing someone beat him .',\n",
       " 'My favorite restaurants are always at least a hundred miles away from my house .',\n",
       " 'What a day !',\n",
       " 'What color is it ?',\n",
       " 'I know exactly .']"
      ]
     },
     "execution_count": 336,
     "metadata": {},
     "output_type": "execute_result"
    }
   ],
   "source": [
    "text = 'Everyone really likes the newest benefits. The Government Executive articles housed on the website are not able to be searched.'\\\n",
    "'I like him for the most part, but would still enjoy seeing someone beat him. My favorite restaurants are always at least a hundred '\\\n",
    "'miles away from my house. What a day! What color is it? I know exactly.'\n",
    "\n",
    "sentences = format_text(text)\n",
    "sentences"
   ]
  },
  {
   "cell_type": "code",
   "execution_count": 337,
   "metadata": {},
   "outputs": [
    {
     "name": "stdout",
     "output_type": "stream",
     "text": [
      "Nb words kept : 81/81 (100.0%)\n",
      "Speed : 26.0 sentences/s (cpu mode, bsize=128)\n",
      "nb sentences encoded : 7\n"
     ]
    }
   ],
   "source": [
    "embeddings = model.encode(sentences, bsize=128, tokenize=False, verbose=True)\n",
    "print('nb sentences encoded : {0}'.format(len(embeddings)))"
   ]
  },
  {
   "cell_type": "code",
   "execution_count": 338,
   "metadata": {},
   "outputs": [
    {
     "data": {
      "text/plain": [
       "array([[ 0.10451623,  0.09512678,  0.        , ...,  0.05427713,\n",
       "         0.        ,  0.03061952],\n",
       "       [ 0.07801579,  0.11585563,  0.08730361, ...,  0.00039722,\n",
       "         0.        ,  0.        ],\n",
       "       [ 0.06004622,  0.08212356,  0.03758185, ..., -0.02280346,\n",
       "        -0.03814262, -0.0099379 ],\n",
       "       ...,\n",
       "       [ 0.00834052,  0.0226815 ,  0.        , ...,  0.        ,\n",
       "         0.        ,  0.        ],\n",
       "       [ 0.0709541 ,  0.13905519,  0.02034344, ...,  0.        ,\n",
       "         0.        ,  0.01513716],\n",
       "       [ 0.03649271,  0.        ,  0.        , ...,  0.        ,\n",
       "         0.        ,  0.00840744]], dtype=float32)"
      ]
     },
     "execution_count": 338,
     "metadata": {},
     "output_type": "execute_result"
    }
   ],
   "source": [
    "embeddings"
   ]
  },
  {
   "cell_type": "code",
   "execution_count": 339,
   "metadata": {},
   "outputs": [
    {
     "data": {
      "text/plain": [
       "4096"
      ]
     },
     "execution_count": 339,
     "metadata": {},
     "output_type": "execute_result"
    }
   ],
   "source": [
    "len(embeddings[0])"
   ]
  },
  {
   "cell_type": "code",
   "execution_count": 340,
   "metadata": {},
   "outputs": [
    {
     "name": "stdout",
     "output_type": "stream",
     "text": [
      "Nb words kept : 4/5 (80.0%)\n",
      "Speed : 33.2 sentences/s (cpu mode, bsize=128)\n"
     ]
    },
    {
     "data": {
      "text/plain": [
       "3.017585"
      ]
     },
     "execution_count": 340,
     "metadata": {},
     "output_type": "execute_result"
    }
   ],
   "source": [
    "np.linalg.norm(model.encode(['the cat eats.'], bsize=128, tokenize=False, verbose=True))\n"
   ]
  },
  {
   "cell_type": "markdown",
   "metadata": {},
   "source": [
    "### Determining cosine similarity of embedding vectors"
   ]
  },
  {
   "cell_type": "code",
   "execution_count": 341,
   "metadata": {},
   "outputs": [],
   "source": [
    "def cosine(u, v):\n",
    "    return np.dot(u, v) / (np.linalg.norm(u) * np.linalg.norm(v))\n",
    "\n"
   ]
  },
  {
   "cell_type": "code",
   "execution_count": 342,
   "metadata": {},
   "outputs": [
    {
     "name": "stdout",
     "output_type": "stream",
     "text": [
      "Nb words kept : 4/5 (80.0%)\n",
      "Speed : 40.5 sentences/s (cpu mode, bsize=128)\n",
      "Nb words kept : 4/5 (80.0%)\n",
      "Speed : 48.7 sentences/s (cpu mode, bsize=128)\n"
     ]
    },
    {
     "data": {
      "text/plain": [
       "1.0"
      ]
     },
     "execution_count": 342,
     "metadata": {},
     "output_type": "execute_result"
    }
   ],
   "source": [
    "cosine(model.encode(['the cat eats.'], bsize=128, tokenize=False, verbose=True)[0], model.encode(['the cat drinks.'], bsize=128, tokenize=False, verbose=True)[0])"
   ]
  },
  {
   "cell_type": "code",
   "execution_count": 343,
   "metadata": {},
   "outputs": [
    {
     "data": {
      "text/plain": [
       "0.8165239"
      ]
     },
     "execution_count": 343,
     "metadata": {},
     "output_type": "execute_result"
    }
   ],
   "source": [
    "cosine(model.encode(['the cat eats.'])[0], model.encode(['the cat drinks.'])[0])\n"
   ]
  },
  {
   "cell_type": "code",
   "execution_count": 344,
   "metadata": {},
   "outputs": [
    {
     "data": {
      "text/plain": [
       "0.8165239"
      ]
     },
     "execution_count": 344,
     "metadata": {},
     "output_type": "execute_result"
    }
   ],
   "source": [
    "cosine(model.encode(['the cat eats.'])[0], model.encode(['the cat drinks.'])[0])\n"
   ]
  },
  {
   "cell_type": "code",
   "execution_count": 345,
   "metadata": {},
   "outputs": [],
   "source": [
    "sentence_one_A = \"AS HEAD OF ANALYTICS YOU WILL Lead the end-to-end structuration of Quidnet as a lean digital company.\"\n",
    "senence_one_B = \"Design the company Big-Data architecture from on-site sensors to cloud processes to laptop solutions, turning data into information.\""
   ]
  },
  {
   "cell_type": "code",
   "execution_count": 346,
   "metadata": {},
   "outputs": [
    {
     "data": {
      "text/plain": [
       "0.69741255"
      ]
     },
     "execution_count": 346,
     "metadata": {},
     "output_type": "execute_result"
    }
   ],
   "source": [
    "cosine(model.encode([sentence_one_A])[0], model.encode([senence_one_B])[0])\n"
   ]
  },
  {
   "cell_type": "code",
   "execution_count": 347,
   "metadata": {},
   "outputs": [],
   "source": [
    "def compare_two_sentences(sentenceOne,sentenceTwo):\n",
    "    #### Takes in two sentences as strings and compares their sentence level embedding cosine similarity and \n",
    "    #### returns scores as float between 0 and 1\n",
    "    return cosine(model.encode([sentenceOne])[0], model.encode([sentenceTwo])[0])\n"
   ]
  },
  {
   "cell_type": "code",
   "execution_count": 348,
   "metadata": {},
   "outputs": [],
   "source": [
    "test_1 = 'Thirteen years of experience as a data scientist ,  geoscientist ,  and software engineer .'\n",
    "test_2 = \"Research Data Scientist opportunity available to work with JPL ' s Machine Learning  &  Instrument Autonomy Group .\""
   ]
  },
  {
   "cell_type": "code",
   "execution_count": 349,
   "metadata": {},
   "outputs": [
    {
     "data": {
      "text/plain": [
       "0.69722444"
      ]
     },
     "execution_count": 349,
     "metadata": {},
     "output_type": "execute_result"
    }
   ],
   "source": [
    "compare_two_sentences(test_1,test_2)"
   ]
  },
  {
   "cell_type": "markdown",
   "metadata": {},
   "source": [
    "## Now let's work with the Job Description & Resume Text Data"
   ]
  },
  {
   "cell_type": "code",
   "execution_count": 350,
   "metadata": {},
   "outputs": [],
   "source": [
    "job_description_test = \"Research Data Scientist opportunity available to work with JPL's Machine Learning & Instrument Autonomy Group. \\\n",
    "The team employs rigorous, explainable Machine Learning (ML) methods to support scientific data investigation on the ground,\\\n",
    "inform spacecraft operations teams in a time-critical setting.\\\n",
    "infuse new capabilities into JPL’s space missions, and extend the reach of scientists beyond Earth by creating autonomous “smart” instruments that can recognize and prioritize discoveries. \\\n",
    "We eschew “black box” ML, and often our trained models are created and examined explicitly to shed light on complex data and increase human insight rather than to automate a process. We collaborate with scientists, spacecraft operators, and engineers to identify novel ways that ML and data-driven science can help achieve their goals. \\\n",
    "Finally, we infuse ML solutions throughout JPL and NASA to bring about a richer, deeper, and more complete understanding of our universe from the Earth to the stars. We measure the success of our applied ML systems in terms of human hours saved, additional discoveries made, or new questions that may be addressed. \\\n",
    "We also frequently act as ambassadors to science and engineering areas not yet familiar with data-driven approaches by teaching, explaining, and offering assistance to those ready to receive it in the complex and often risk/change-averse arena of space exploration., \\\n",
    "Senior Research Data Scientist Responsibilities Include Conduct R&D of ML and related technologies for application to science and engineering challenges. \\\n",
    "Develop and lead algorithm and data processing methods for airborne and satellite remote sensing platforms, planetary surface missions, and novel instrument designs. \\\n",
    "Collaborate with domain experts from a variety of natural science and space-related engineering fields. \\\n",
    "Publicize practical and theoretical work through peer-reviewed conference, workshop, and journal papers. \\\n",
    "Facilitate the infusion of high quality, data-driven technologies throughout JPL and NASA. Provide strategic guidance on all aspects of data science at the group, section, division, and institutional level. Drive the infusion of data-driven products into JPL missions, components, instruments, and processes. Obtain competitive grant proposal funding, form multidisciplinary teams, and serve as Principle Investigator. \\\n",
    "The Machine Learning & Insturment Autonomy Group is part of the Instrument Software and Science Data Systems Section which provides expertise across the domains of instrument operations and science data systems with a team of multidisciplinary engineers and technologists. Our engineering teams build and operate high performance data processing, management and analysis systems capable of handling petabyte scale datasets in support of science discovery, research, operations and applications.\\\n",
    "The Section supports JPL and NASA missions, as well as other science-based projects. Our research and technology development teams create new onboard and ground based technologies for data processing, analysis, modeling, reasoning, visualization, management, access and analytics that are infused into our data systems. \\\n",
    "Typically requires degree in Computer Science, Electrical Engineering, or related technical discipline with a minimum of 9 years of experience, or a Master's with 7+ years experience or a Ph.D with 5+ years experience.\\\n",
    "Sustained record of high-quality ML and space data-oriented papers in respected, peer reviewed publications.\\\n",
    "Demonstrated Principle Investigator leadership and independent, novel research capabilities.\\\n",
    "Demonstrated success competitive proposal calls in space-related areas,\\\n",
    "Active reviewer for major data science / remote sensing journals and conferences.\\\n",
    "Broad knowledge of traditional and deep ML for time series, image, and spectral analysis.\\\n",
    "Demonstrated examples of software that are written to be maintainable, reusable, and follows best practices.\\\n",
    "Excellence in extracting meaningful science-relevant conclusions, identifying driving features, and performing relevant tradeoff analyses that inform data exploration, build intuition, and address specific mission needs.\\\n",
    "Deep expertise in and dedication to rigorous validation and explainability for all analyses.\\\n",
    "Strong written and oral communication skills including data visualization, presentation, and explanation of results.\\\n",
    "Team-building mentality, can-do attitude, and relentless commitment to project success.\\\n",
    "Significant programming experience with Python including NumPy / scikit-learn with high productivity.\\\n",
    "Experience with software engineering best practices including unit and regression testing.\\\n",
    "Optimizing and delivering algorithms to onboard, large-scale computing, or real-time critical systems. Working knowledge of Earth Science / Atmospheric Science / Planetary Science / Physics / Astronomy / Geology.\\\n",
    "\""
   ]
  },
  {
   "cell_type": "code",
   "execution_count": 351,
   "metadata": {},
   "outputs": [
    {
     "data": {
      "text/plain": [
       "35"
      ]
     },
     "execution_count": 351,
     "metadata": {},
     "output_type": "execute_result"
    }
   ],
   "source": [
    "job_description_test_formatted = format_text(job_description_test)\n",
    "len(job_description_test_formatted)"
   ]
  },
  {
   "cell_type": "code",
   "execution_count": 352,
   "metadata": {},
   "outputs": [
    {
     "data": {
      "text/plain": [
       "[\"Research Data Scientist opportunity available to work with JPL ' s Machine Learning  &  Instrument Autonomy Group .\",\n",
       " 'The team employs rigorous ,  explainable Machine Learning  ( ML )  methods to support scientific data investigation on the ground , inform spacecraft operations teams in a time - critical setting .',\n",
       " 'infuse new capabilities into JPL’s space missions ,  and extend the reach of scientists beyond Earth by creating autonomous “smart” instruments that can recognize and prioritize discoveries .',\n",
       " 'We eschew “black box” ML ,  and often our trained models are created and examined explicitly to shed light on complex data and increase human insight rather than to automate a process .',\n",
       " 'We collaborate with scientists ,  spacecraft operators ,  and engineers to identify novel ways that ML and data - driven science can help achieve their goals .',\n",
       " 'Finally ,  we infuse ML solutions throughout JPL and NASA to bring about a richer ,  deeper ,  and more complete understanding of our universe from the Earth to the stars .',\n",
       " 'We measure the success of our applied ML systems in terms of human hours saved ,  additional discoveries made ,  or new questions that may be addressed .',\n",
       " 'We also frequently act as ambassadors to science and engineering areas not yet familiar with data - driven approaches by teaching ,  explaining ,  and offering assistance to those ready to receive it in the complex and often risk / change - averse arena of space exploration .',\n",
       " ',  Senior Research Data Scientist Responsibilities Include Conduct R & D of ML and related technologies for application to science and engineering challenges .',\n",
       " 'Develop and lead algorithm and data processing methods for airborne and satellite remote sensing platforms ,  planetary surface missions ,  and novel instrument designs .',\n",
       " 'Collaborate with domain experts from a variety of natural science and space - related engineering fields .',\n",
       " 'Publicize practical and theoretical work through peer - reviewed conference ,  workshop ,  and journal papers .',\n",
       " 'Facilitate the infusion of high quality ,  data - driven technologies throughout JPL and NASA .',\n",
       " 'Provide strategic guidance on all aspects of data science at the group ,  section ,  division ,  and institutional level .',\n",
       " 'Drive the infusion of data - driven products into JPL missions ,  components ,  instruments ,  and processes .',\n",
       " 'Obtain competitive grant proposal funding ,  form multidisciplinary teams ,  and serve as Principle Investigator .',\n",
       " 'The Machine Learning  &  Insturment Autonomy Group is part of the Instrument Software and Science Data Systems Section which provides expertise across the domains of instrument operations and science data systems with a team of multidisciplinary engineers and technologists .',\n",
       " 'Our engineering teams build and operate high performance data processing ,  management and analysis systems capable of handling petabyte scale datasets in support of science discovery ,  research ,  operations and applications .',\n",
       " 'The Section supports JPL and NASA missions ,  as well as other science - based projects .',\n",
       " 'Our research and technology development teams create new onboard and ground based technologies for data processing ,  analysis ,  modeling ,  reasoning ,  visualization ,  management ,  access and analytics that are infused into our data systems .',\n",
       " \"Typically requires degree in Computer Science ,  Electrical Engineering ,  or related technical discipline with a minimum of 9 years of experience ,  or a Master ' s with 7 +  years experience or a Ph .\",\n",
       " 'D with 5 +  years experience .',\n",
       " 'Sustained record of high - quality ML and space data - oriented papers in respected ,  peer reviewed publications .',\n",
       " 'Demonstrated Principle Investigator leadership and independent ,  novel research capabilities .',\n",
       " 'Demonstrated success competitive proposal calls in space - related areas , Active reviewer for major data science  /  remote sensing journals and conferences .',\n",
       " 'Broad knowledge of traditional and deep ML for time series ,  image ,  and spectral analysis .',\n",
       " 'Demonstrated examples of software that are written to be maintainable ,  reusable ,  and follows best practices .',\n",
       " 'Excellence in extracting meaningful science - relevant conclusions ,  identifying driving features ,  and performing relevant tradeoff analyses that inform data exploration ,  build intuition ,  and address specific mission needs .',\n",
       " 'Deep expertise in and dedication to rigorous validation and explainability for all analyses .',\n",
       " 'Strong written and oral communication skills including data visualization ,  presentation ,  and explanation of results .',\n",
       " 'Team - building mentality ,  can - do attitude ,  and relentless commitment to project success .',\n",
       " 'Significant programming experience with Python including NumPy  /  scikit - learn with high productivity .',\n",
       " 'Experience with software engineering best practices including unit and regression testing .',\n",
       " 'Optimizing and delivering algorithms to onboard ,  large - scale computing ,  or real - time critical systems .',\n",
       " 'Working knowledge of Earth Science  /  Atmospheric Science  /  Planetary Science  /  Physics  /  Astronomy  /  Geology .']"
      ]
     },
     "execution_count": 352,
     "metadata": {},
     "output_type": "execute_result"
    }
   ],
   "source": [
    "job_description_test_formatted"
   ]
  },
  {
   "cell_type": "code",
   "execution_count": 353,
   "metadata": {},
   "outputs": [],
   "source": [
    "resume_text_test = \"Thirteen years of experience as a data scientist, geoscientist, and software engineer.\\\n",
    "Has successfully delivered projects in the machine learning, data visualization, and software engineering spaces. \\\n",
    "Extensive record of generating new ideas, formulating strategy, and collaborating across organizational boundaries to deliver on objectives.\\\n",
    "Computer Language, Database, Web-development & Machine-Learning Skills: Language Databases Python, JavaScript, R, Java, Bash, PostgreSQL, Neo4J, & AWS cloud system admin. ML - Scikit-learn, TensorFlow, Keras, Weka, PyTorch, Natural language processing and speech recognition using a variety of python libraries, including CMUSphinx, DeepSpeech, NLTK, Gensim, & spaCy \\\n",
    "Web – Flaskpy, Nodejs, JQueryjs, Angularjs, & Reactjs, HTML, CSS, PHP, & WordPress \\\n",
    "Data visualization & GIS d3js, threejs, Tableau, AR/VR in Unity & JavaScript, & ESRI desktop certification\\\n",
    "Half my time I am a data scientist supporting a NASA data Analytics lab building machine-learning and data\\\n",
    "visualization prototypes for partners across NASA.\\\n",
    "The other half I support the NASA Open-Innovation program, responsible for operations, new features, and compliance for \\\n",
    "I am technical manager for one software engineer, one junior data scientist, and one to two interns.\\\n",
    "Presented on leveraging machine-learning to create new metadata from existing metadata at AGU 2019. This natural language processing work is also described as example for other federal agencies on strategydatagov. \\\n",
    "Rapid response dashboard of NASA’s COVID19 risk exposure & telework capability for senior executives.\\\n",
    "Delivered speech-to-text projects with focus on reusable code & enabling effective vendor/model evaluations.\\\n",
    "Collaborated with intern on NLP model to disambiguate authors with same name across thousands of documents.\\\n",
    "Mentored intern to develop natural language processing model that can be given an acronym and surrounding context words and predict correct expansion of the acronym where multiple possible definitions exist.\\\n",
    "Co-administrator of NASA’s internal & public GitHub instances. Webpage admin. AWS cloud system admin. \\\n",
    "Push adoption of new technologies in machine-learning and data visualization through consulting  proof-of-concept projects as a member of the NASA OCIO Technology & Data Div Data Analytics lab.\\\n",
    "Created interactive visualization to show how NASA strategic goals and objectives map to spending.\\\n",
    "Visualized aggregate device specific patterns in network traffic from an Internet of Things WIFI network\\\n",
    "Worked in multidisciplinary teams to analyze data, make predictions, communicate results, and enable decisions.\\\n",
    "Taught geologists, engineers, and other disciplines geology for 4 years in classroom and field setting.\\\n",
    "Predicted fluid connectivity in gas field development leveraging multiple linear regression and neural networks\\\n",
    "Predicted well-log lithology using machine-learning methods, XGBoost.\\\n",
    "Applied geostatistics in 3D model simulations of fluid flow & resource size used in billion-dollar investment decision.\\\n",
    "Recent Talks, Open-Source Software, and Community Leadership Roles Outside Job Duties \\\n",
    "Co-lead of Houston Data Visualization Meetup.\\\n",
    "Developed Wellioviz, open-source JavaScript library for visualization of well logs, supported by a startup.\\\n",
    "Created Predictatops, open-source Python project for applying machine-learning to chronostratigraphic well log surface correlation, and presented it at the 2019 American Assoc. of Petroleum Geologists Annual Meeting.\\\n",
    "Rice Data Sci Conf Talk - “Practical Considerations for Data Science Consulting in a Large Organization“\\\n",
    "\""
   ]
  },
  {
   "cell_type": "code",
   "execution_count": 354,
   "metadata": {},
   "outputs": [
    {
     "data": {
      "text/plain": [
       "26"
      ]
     },
     "execution_count": 354,
     "metadata": {},
     "output_type": "execute_result"
    }
   ],
   "source": [
    "resume_text_test_formatted = format_text(resume_text_test)\n",
    "len(resume_text_test_formatted)"
   ]
  },
  {
   "cell_type": "code",
   "execution_count": null,
   "metadata": {},
   "outputs": [],
   "source": []
  },
  {
   "cell_type": "code",
   "execution_count": 355,
   "metadata": {},
   "outputs": [
    {
     "data": {
      "text/plain": [
       "['Thirteen years of experience as a data scientist ,  geoscientist ,  and software engineer .',\n",
       " 'Has successfully delivered projects in the machine learning ,  data visualization ,  and software engineering spaces .',\n",
       " 'Extensive record of generating new ideas ,  formulating strategy ,  and collaborating across organizational boundaries to deliver on objectives .',\n",
       " 'Computer Language ,  Database ,  Web - development  &  Machine - Learning Skills :  Language Databases Python ,  JavaScript ,  R ,  Java ,  Bash ,  PostgreSQL ,  Neo4J ,   &  AWS cloud system admin .',\n",
       " 'ML  -  Scikit - learn ,  TensorFlow ,  Keras ,  Weka ,  PyTorch ,  Natural language processing and speech recognition using a variety of python libraries ,  including CMUSphinx ,  DeepSpeech ,  NLTK ,  Gensim ,   &  spaCy Web – Flaskpy ,  Nodejs ,  JQueryjs ,  Angularjs ,   &  Reactjs ,  HTML ,  CSS ,  PHP ,   &  WordPress Data visualization  &  GIS d3js ,  threejs ,  Tableau ,  AR / VR in Unity  &  JavaScript ,   &  ESRI desktop certificationHalf my time I am a data scientist supporting a NASA data Analytics lab building machine - learning and datavisualization prototypes for partners across NASA .',\n",
       " 'The other half I support the NASA Open - Innovation program ,  responsible for operations ,  new features ,  and compliance for I am technical manager for one software engineer ,  one junior data scientist ,  and one to two interns .',\n",
       " 'Presented on leveraging machine - learning to create new metadata from existing metadata at AGU 2019 .',\n",
       " 'This natural language processing work is also described as example for other federal agencies on strategydatagov .',\n",
       " 'Rapid response dashboard of NASA’s COVID19 risk exposure  &  telework capability for senior executives .',\n",
       " 'Delivered speech - to - text projects with focus on reusable code  &  enabling effective vendor / model evaluations .',\n",
       " 'Collaborated with intern on NLP model to disambiguate authors with same name across thousands of documents .',\n",
       " 'Mentored intern to develop natural language processing model that can be given an acronym and surrounding context words and predict correct expansion of the acronym where multiple possible definitions exist .',\n",
       " 'Co - administrator of NASA’s internal  &  public GitHub instances .',\n",
       " 'Webpage admin .',\n",
       " 'AWS cloud system admin .',\n",
       " 'Push adoption of new technologies in machine - learning and data visualization through consulting  proof - of - concept projects as a member of the NASA OCIO Technology  &  Data Div Data Analytics lab .',\n",
       " 'Created interactive visualization to show how NASA strategic goals and objectives map to spending .',\n",
       " 'Visualized aggregate device specific patterns in network traffic from an Internet of Things WIFI networkWorked in multidisciplinary teams to analyze data ,  make predictions ,  communicate results ,  and enable decisions .',\n",
       " 'Taught geologists ,  engineers ,  and other disciplines geology for 4 years in classroom and field setting .',\n",
       " 'Predicted fluid connectivity in gas field development leveraging multiple linear regression and neural networksPredicted well - log lithology using machine - learning methods ,  XGBoost .',\n",
       " 'Applied geostatistics in 3D model simulations of fluid flow  &  resource size used in billion - dollar investment decision .',\n",
       " 'Recent Talks ,  Open - Source Software ,  and Community Leadership Roles Outside Job Duties Co - lead of Houston Data Visualization Meetup .',\n",
       " 'Developed Wellioviz ,  open - source JavaScript library for visualization of well logs ,  supported by a startup .',\n",
       " 'Created Predictatops ,  open - source Python project for applying machine - learning to chronostratigraphic well log surface correlation ,  and presented it at the 2019 American Assoc .',\n",
       " 'of Petroleum Geologists Annual Meeting .',\n",
       " 'Rice Data Sci Conf Talk  -  “Practical Considerations for Data Science Consulting in a Large Organization“']"
      ]
     },
     "execution_count": 355,
     "metadata": {},
     "output_type": "execute_result"
    }
   ],
   "source": [
    "resume_text_test_formatted"
   ]
  },
  {
   "cell_type": "markdown",
   "metadata": {},
   "source": [
    "#### text is prepped"
   ]
  },
  {
   "cell_type": "code",
   "execution_count": 356,
   "metadata": {},
   "outputs": [],
   "source": [
    "template = {\"job_name\":\"\",\n",
    "  \"resume_name\":\"\",\n",
    "  \"details\":[{\n",
    "      \"job_line_number\":0,\n",
    "      \"job_text\":\"\",\n",
    "      \"scores\":[{\n",
    "          \"resume_line_number\":0,\n",
    "          \"resume_text\":\"\",\n",
    "          \"line_similarity\":0\n",
    "          }    \n",
    "      ],\n",
    "      \"top_similar_line\":{0:\"\"}\n",
    "   }\n",
    "  ]\n",
    "  }"
   ]
  },
  {
   "cell_type": "markdown",
   "metadata": {},
   "source": [
    "### Now we'll create a little scorecard function to keep track of how each line is similar"
   ]
  },
  {
   "cell_type": "code",
   "execution_count": 357,
   "metadata": {},
   "outputs": [
    {
     "data": {
      "text/plain": [
       "{'job_name': '',\n",
       " 'resume_name': '',\n",
       " 'details': [{'job_line_number': 0,\n",
       "   'job_text': '',\n",
       "   'scores': [{'resume_line_number': 0,\n",
       "     'resume_text': '',\n",
       "     'line_similarity': 0}],\n",
       "   'top_similar_line': {0: ''}}]}"
      ]
     },
     "execution_count": 357,
     "metadata": {},
     "output_type": "execute_result"
    }
   ],
   "source": [
    "template"
   ]
  },
  {
   "cell_type": "code",
   "execution_count": 382,
   "metadata": {},
   "outputs": [],
   "source": [
    "def creates_score_card(job_name,job_description_prepped,resume_name,resume_info_prepped,template_scorecard):\n",
    "    #### takes in two data structures of each document. Both are array of strings\n",
    "    #### approximately something like\n",
    "    ### [{\"id_number\":0,\"string\":\"Here is where the actual string goes in the job description\":[\"resume_string\":\"Project description\",\"resume_string_id\":\"String1\",\"project_number\":4,\"cosine_sim\":0.34]}]\n",
    "    template = {}\n",
    "    template['job_name']=job_name\n",
    "    template['resume_name']=resume_name\n",
    "    template[\"details\"]=[]\n",
    "    \n",
    "    \n",
    "    resume_line_number = -1\n",
    "    job_description_line_number = -1\n",
    "    \n",
    "    for j_line in job_description_prepped:\n",
    "        template_obj = {'job_line_number': 0,\n",
    "                   'job_text': '',\n",
    "                   'scores': [\n",
    "                       {'resume_line_number': 0,\n",
    "                        'resume_text': '',\n",
    "                        'line_similarity': 0}\n",
    "                             ],\n",
    "                    'top_similar_line': {0: ''}\n",
    "               }\n",
    "    \n",
    "        job_description_line_number += 1\n",
    "        resume_line_number = 0\n",
    "        template_obj['job_text'] = j_line\n",
    "        template_obj['job_line_number'] = job_description_line_number\n",
    "        template_obj['scores'] = []\n",
    "        top_scoring_resume_line_for_this_job_line = 0\n",
    "        top_scoring_resume_line_score_for_this_job_line = 0\n",
    "        #print(\"did the line number\",job_description_line_number,\" which is \",j_line)\n",
    "        for r_line in resume_info_prepped:\n",
    "            resume_line_number += 1\n",
    "            scores_obj =  {'resume_line_number': 0,'resume_text': '','line_similarity': 0}\n",
    "            scores_obj['resume_text'] = r_line\n",
    "            scores_obj['resume_line_number'] = resume_line_number\n",
    "            #print(\"got to this line in resume\",resume_line_number)\n",
    "            sim = compare_two_sentences(j_line,r_line)\n",
    "            if sim > top_scoring_resume_line_score_for_this_job_line:\n",
    "                top_scoring_resume_line_score_for_this_job_line = sim\n",
    "                top_scoring_resume_line_for_this_job_line = resume_line_number\n",
    "                \n",
    "            scores_obj['line_similarity'] = sim\n",
    "            #print(\"sim =\",sim)\n",
    "            template_obj['scores'].append(scores_obj)\n",
    "        template_obj['top_similar_line'] = top_scoring_resume_line_for_this_job_line\n",
    "        template[\"details\"].append(template_obj)\n",
    "    return template\n",
    "        \n",
    "            \n",
    "#     for j_line in job_description_prepped:\n",
    "        \n",
    "    return template"
   ]
  },
  {
   "cell_type": "code",
   "execution_count": 383,
   "metadata": {
    "scrolled": true
   },
   "outputs": [],
   "source": [
    "scorecard_results = creates_score_card(\"job_name\",job_description_test_formatted,\"resume_name\",resume_text_test_formatted,template)"
   ]
  },
  {
   "cell_type": "code",
   "execution_count": 379,
   "metadata": {},
   "outputs": [],
   "source": [
    "#scorecard_results"
   ]
  },
  {
   "cell_type": "code",
   "execution_count": 361,
   "metadata": {},
   "outputs": [
    {
     "data": {
      "text/plain": [
       "dict_keys(['job_name', 'resume_name', 'details'])"
      ]
     },
     "execution_count": 361,
     "metadata": {},
     "output_type": "execute_result"
    }
   ],
   "source": [
    "scorecard_results.keys()"
   ]
  },
  {
   "cell_type": "code",
   "execution_count": 378,
   "metadata": {},
   "outputs": [],
   "source": [
    "# scorecard_results['details'][1]"
   ]
  },
  {
   "cell_type": "code",
   "execution_count": 375,
   "metadata": {},
   "outputs": [],
   "source": [
    "# scorecard_results['details'][2]"
   ]
  },
  {
   "cell_type": "code",
   "execution_count": 376,
   "metadata": {},
   "outputs": [
    {
     "data": {
      "text/plain": [
       "35"
      ]
     },
     "execution_count": 376,
     "metadata": {},
     "output_type": "execute_result"
    }
   ],
   "source": [
    "len(scorecard_results['details'])"
   ]
  },
  {
   "cell_type": "code",
   "execution_count": 377,
   "metadata": {},
   "outputs": [],
   "source": [
    "# scorecard_results['details'][14]"
   ]
  },
  {
   "cell_type": "code",
   "execution_count": 366,
   "metadata": {},
   "outputs": [
    {
     "data": {
      "text/plain": [
       "dict_keys(['job_line_number', 'job_text', 'scores', 'top_similar_line'])"
      ]
     },
     "execution_count": 366,
     "metadata": {},
     "output_type": "execute_result"
    }
   ],
   "source": [
    "scorecard_results['details'][10].keys()"
   ]
  },
  {
   "cell_type": "code",
   "execution_count": 367,
   "metadata": {},
   "outputs": [
    {
     "data": {
      "text/plain": [
       "'Publicize practical and theoretical work through peer - reviewed conference ,  workshop ,  and journal papers .'"
      ]
     },
     "execution_count": 367,
     "metadata": {},
     "output_type": "execute_result"
    }
   ],
   "source": [
    "scorecard_results['details'][11]['job_text']"
   ]
  },
  {
   "cell_type": "code",
   "execution_count": 368,
   "metadata": {},
   "outputs": [
    {
     "data": {
      "text/plain": [
       "5"
      ]
     },
     "execution_count": 368,
     "metadata": {},
     "output_type": "execute_result"
    }
   ],
   "source": [
    "scorecard_results['details'][11]['top_similar_line']"
   ]
  },
  {
   "cell_type": "code",
   "execution_count": 369,
   "metadata": {},
   "outputs": [
    {
     "data": {
      "text/plain": [
       "{'resume_line_number': 17,\n",
       " 'resume_text': 'Created interactive visualization to show how NASA strategic goals and objectives map to spending .',\n",
       " 'line_similarity': 0.7092615}"
      ]
     },
     "execution_count": 369,
     "metadata": {},
     "output_type": "execute_result"
    }
   ],
   "source": [
    "scorecard_results['details'][11]['scores'][16]"
   ]
  },
  {
   "cell_type": "code",
   "execution_count": 370,
   "metadata": {},
   "outputs": [],
   "source": [
    "def get_most_similar_lines_printed(scorecard_results,line):\n",
    "    print(\"job description text:\")\n",
    "    print(scorecard_results['details'][line]['job_text'])\n",
    "    top_similar_line = scorecard_results['details'][line]['top_similar_line']\n",
    "    print(\"\")\n",
    "    print(\"most similar meaning in resume lines:\")\n",
    "    print(scorecard_results['details'][line]['scores'][top_similar_line]['resume_text'])\n",
    "    print(\"\")\n",
    "    print(\"similarity:\",scorecard_results['details'][line]['scores'][top_similar_line]['line_similarity'])\n",
    "    print(\"\")\n",
    "    print(\"\")"
   ]
  },
  {
   "cell_type": "code",
   "execution_count": 371,
   "metadata": {},
   "outputs": [
    {
     "name": "stdout",
     "output_type": "stream",
     "text": [
      "job description text:\n",
      "Strong written and oral communication skills including data visualization ,  presentation ,  and explanation of results .\n",
      "\n",
      "most similar meaning in resume lines:\n",
      "Extensive record of generating new ideas ,  formulating strategy ,  and collaborating across organizational boundaries to deliver on objectives .\n",
      "\n",
      "similarity: 0.78247577\n",
      "\n",
      "\n"
     ]
    }
   ],
   "source": [
    "get_most_similar_lines_printed(scorecard_results,29)"
   ]
  },
  {
   "cell_type": "code",
   "execution_count": 372,
   "metadata": {},
   "outputs": [
    {
     "name": "stdout",
     "output_type": "stream",
     "text": [
      "job description text:\n",
      "Research Data Scientist opportunity available to work with JPL ' s Machine Learning  &  Instrument Autonomy Group .\n",
      "\n",
      "most similar meaning in resume lines:\n",
      "Created interactive visualization to show how NASA strategic goals and objectives map to spending .\n",
      "\n",
      "similarity: 0.7195837\n",
      "\n",
      "\n",
      "job description text:\n",
      "The team employs rigorous ,  explainable Machine Learning  ( ML )  methods to support scientific data investigation on the ground , inform spacecraft operations teams in a time - critical setting .\n",
      "\n",
      "most similar meaning in resume lines:\n",
      "The other half I support the NASA Open - Innovation program ,  responsible for operations ,  new features ,  and compliance for I am technical manager for one software engineer ,  one junior data scientist ,  and one to two interns .\n",
      "\n",
      "similarity: 0.8462393\n",
      "\n",
      "\n",
      "job description text:\n",
      "infuse new capabilities into JPL’s space missions ,  and extend the reach of scientists beyond Earth by creating autonomous “smart” instruments that can recognize and prioritize discoveries .\n",
      "\n",
      "most similar meaning in resume lines:\n",
      "The other half I support the NASA Open - Innovation program ,  responsible for operations ,  new features ,  and compliance for I am technical manager for one software engineer ,  one junior data scientist ,  and one to two interns .\n",
      "\n",
      "similarity: 0.82570165\n",
      "\n",
      "\n",
      "job description text:\n",
      "We eschew “black box” ML ,  and often our trained models are created and examined explicitly to shed light on complex data and increase human insight rather than to automate a process .\n",
      "\n",
      "most similar meaning in resume lines:\n",
      "Co - administrator of NASA’s internal  &  public GitHub instances .\n",
      "\n",
      "similarity: 0.693458\n",
      "\n",
      "\n",
      "job description text:\n",
      "We collaborate with scientists ,  spacecraft operators ,  and engineers to identify novel ways that ML and data - driven science can help achieve their goals .\n",
      "\n",
      "most similar meaning in resume lines:\n",
      "Presented on leveraging machine - learning to create new metadata from existing metadata at AGU 2019 .\n",
      "\n",
      "similarity: 0.76769835\n",
      "\n",
      "\n",
      "job description text:\n",
      "Finally ,  we infuse ML solutions throughout JPL and NASA to bring about a richer ,  deeper ,  and more complete understanding of our universe from the Earth to the stars .\n",
      "\n",
      "most similar meaning in resume lines:\n",
      "The other half I support the NASA Open - Innovation program ,  responsible for operations ,  new features ,  and compliance for I am technical manager for one software engineer ,  one junior data scientist ,  and one to two interns .\n",
      "\n",
      "similarity: 0.7958197\n",
      "\n",
      "\n",
      "job description text:\n",
      "We measure the success of our applied ML systems in terms of human hours saved ,  additional discoveries made ,  or new questions that may be addressed .\n",
      "\n",
      "most similar meaning in resume lines:\n",
      "Co - administrator of NASA’s internal  &  public GitHub instances .\n",
      "\n",
      "similarity: 0.6958964\n",
      "\n",
      "\n",
      "job description text:\n",
      "We also frequently act as ambassadors to science and engineering areas not yet familiar with data - driven approaches by teaching ,  explaining ,  and offering assistance to those ready to receive it in the complex and often risk / change - averse arena of space exploration .\n",
      "\n",
      "most similar meaning in resume lines:\n",
      "The other half I support the NASA Open - Innovation program ,  responsible for operations ,  new features ,  and compliance for I am technical manager for one software engineer ,  one junior data scientist ,  and one to two interns .\n",
      "\n",
      "similarity: 0.82202524\n",
      "\n",
      "\n",
      "job description text:\n",
      ",  Senior Research Data Scientist Responsibilities Include Conduct R & D of ML and related technologies for application to science and engineering challenges .\n",
      "\n",
      "most similar meaning in resume lines:\n",
      "Created interactive visualization to show how NASA strategic goals and objectives map to spending .\n",
      "\n",
      "similarity: 0.7497468\n",
      "\n",
      "\n",
      "job description text:\n",
      "Develop and lead algorithm and data processing methods for airborne and satellite remote sensing platforms ,  planetary surface missions ,  and novel instrument designs .\n",
      "\n",
      "most similar meaning in resume lines:\n",
      "Applied geostatistics in 3D model simulations of fluid flow  &  resource size used in billion - dollar investment decision .\n",
      "\n",
      "similarity: 0.75645417\n",
      "\n",
      "\n",
      "job description text:\n",
      "Collaborate with domain experts from a variety of natural science and space - related engineering fields .\n",
      "\n",
      "most similar meaning in resume lines:\n",
      "Created interactive visualization to show how NASA strategic goals and objectives map to spending .\n",
      "\n",
      "similarity: 0.7328251\n",
      "\n",
      "\n",
      "job description text:\n",
      "Publicize practical and theoretical work through peer - reviewed conference ,  workshop ,  and journal papers .\n",
      "\n",
      "most similar meaning in resume lines:\n",
      "The other half I support the NASA Open - Innovation program ,  responsible for operations ,  new features ,  and compliance for I am technical manager for one software engineer ,  one junior data scientist ,  and one to two interns .\n",
      "\n",
      "similarity: 0.75428724\n",
      "\n",
      "\n",
      "job description text:\n",
      "Facilitate the infusion of high quality ,  data - driven technologies throughout JPL and NASA .\n",
      "\n",
      "most similar meaning in resume lines:\n",
      "Created interactive visualization to show how NASA strategic goals and objectives map to spending .\n",
      "\n",
      "similarity: 0.7492296\n",
      "\n",
      "\n",
      "job description text:\n",
      "Provide strategic guidance on all aspects of data science at the group ,  section ,  division ,  and institutional level .\n",
      "\n",
      "most similar meaning in resume lines:\n",
      "Computer Language ,  Database ,  Web - development  &  Machine - Learning Skills :  Language Databases Python ,  JavaScript ,  R ,  Java ,  Bash ,  PostgreSQL ,  Neo4J ,   &  AWS cloud system admin .\n",
      "\n",
      "similarity: 0.72689307\n",
      "\n",
      "\n",
      "job description text:\n",
      "Drive the infusion of data - driven products into JPL missions ,  components ,  instruments ,  and processes .\n",
      "\n",
      "most similar meaning in resume lines:\n",
      "The other half I support the NASA Open - Innovation program ,  responsible for operations ,  new features ,  and compliance for I am technical manager for one software engineer ,  one junior data scientist ,  and one to two interns .\n",
      "\n",
      "similarity: 0.7828305\n",
      "\n",
      "\n",
      "job description text:\n",
      "Obtain competitive grant proposal funding ,  form multidisciplinary teams ,  and serve as Principle Investigator .\n",
      "\n",
      "most similar meaning in resume lines:\n",
      "Computer Language ,  Database ,  Web - development  &  Machine - Learning Skills :  Language Databases Python ,  JavaScript ,  R ,  Java ,  Bash ,  PostgreSQL ,  Neo4J ,   &  AWS cloud system admin .\n",
      "\n",
      "similarity: 0.66186273\n",
      "\n",
      "\n",
      "job description text:\n",
      "The Machine Learning  &  Insturment Autonomy Group is part of the Instrument Software and Science Data Systems Section which provides expertise across the domains of instrument operations and science data systems with a team of multidisciplinary engineers and technologists .\n",
      "\n",
      "most similar meaning in resume lines:\n",
      "Created interactive visualization to show how NASA strategic goals and objectives map to spending .\n",
      "\n",
      "similarity: 0.7700354\n",
      "\n",
      "\n",
      "job description text:\n",
      "Our engineering teams build and operate high performance data processing ,  management and analysis systems capable of handling petabyte scale datasets in support of science discovery ,  research ,  operations and applications .\n",
      "\n",
      "most similar meaning in resume lines:\n",
      "Extensive record of generating new ideas ,  formulating strategy ,  and collaborating across organizational boundaries to deliver on objectives .\n",
      "\n",
      "similarity: 0.8204846\n",
      "\n",
      "\n",
      "job description text:\n",
      "The Section supports JPL and NASA missions ,  as well as other science - based projects .\n",
      "\n",
      "most similar meaning in resume lines:\n",
      "Presented on leveraging machine - learning to create new metadata from existing metadata at AGU 2019 .\n",
      "\n",
      "similarity: 0.7020021\n",
      "\n",
      "\n",
      "job description text:\n",
      "Our research and technology development teams create new onboard and ground based technologies for data processing ,  analysis ,  modeling ,  reasoning ,  visualization ,  management ,  access and analytics that are infused into our data systems .\n",
      "\n",
      "most similar meaning in resume lines:\n",
      "The other half I support the NASA Open - Innovation program ,  responsible for operations ,  new features ,  and compliance for I am technical manager for one software engineer ,  one junior data scientist ,  and one to two interns .\n",
      "\n",
      "similarity: 0.8419079\n",
      "\n",
      "\n",
      "job description text:\n",
      "Typically requires degree in Computer Science ,  Electrical Engineering ,  or related technical discipline with a minimum of 9 years of experience ,  or a Master ' s with 7 +  years experience or a Ph .\n",
      "\n",
      "most similar meaning in resume lines:\n",
      "The other half I support the NASA Open - Innovation program ,  responsible for operations ,  new features ,  and compliance for I am technical manager for one software engineer ,  one junior data scientist ,  and one to two interns .\n",
      "\n",
      "similarity: 0.8114616\n",
      "\n",
      "\n",
      "job description text:\n",
      "D with 5 +  years experience .\n",
      "\n",
      "most similar meaning in resume lines:\n",
      "Has successfully delivered projects in the machine learning ,  data visualization ,  and software engineering spaces .\n",
      "\n",
      "similarity: 0.44808882\n",
      "\n",
      "\n",
      "job description text:\n",
      "Sustained record of high - quality ML and space data - oriented papers in respected ,  peer reviewed publications .\n",
      "\n",
      "most similar meaning in resume lines:\n",
      "The other half I support the NASA Open - Innovation program ,  responsible for operations ,  new features ,  and compliance for I am technical manager for one software engineer ,  one junior data scientist ,  and one to two interns .\n",
      "\n",
      "similarity: 0.7852695\n",
      "\n",
      "\n",
      "job description text:\n",
      "Demonstrated Principle Investigator leadership and independent ,  novel research capabilities .\n",
      "\n",
      "most similar meaning in resume lines:\n",
      "Computer Language ,  Database ,  Web - development  &  Machine - Learning Skills :  Language Databases Python ,  JavaScript ,  R ,  Java ,  Bash ,  PostgreSQL ,  Neo4J ,   &  AWS cloud system admin .\n",
      "\n",
      "similarity: 0.6674387\n",
      "\n",
      "\n",
      "job description text:\n",
      "Demonstrated success competitive proposal calls in space - related areas , Active reviewer for major data science  /  remote sensing journals and conferences .\n",
      "\n",
      "most similar meaning in resume lines:\n",
      "Taught geologists ,  engineers ,  and other disciplines geology for 4 years in classroom and field setting .\n",
      "\n",
      "similarity: 0.75652707\n",
      "\n",
      "\n",
      "job description text:\n",
      "Broad knowledge of traditional and deep ML for time series ,  image ,  and spectral analysis .\n",
      "\n",
      "most similar meaning in resume lines:\n",
      "The other half I support the NASA Open - Innovation program ,  responsible for operations ,  new features ,  and compliance for I am technical manager for one software engineer ,  one junior data scientist ,  and one to two interns .\n",
      "\n",
      "similarity: 0.73888403\n",
      "\n",
      "\n",
      "job description text:\n",
      "Demonstrated examples of software that are written to be maintainable ,  reusable ,  and follows best practices .\n",
      "\n",
      "most similar meaning in resume lines:\n",
      "Collaborated with intern on NLP model to disambiguate authors with same name across thousands of documents .\n",
      "\n",
      "similarity: 0.7007625\n",
      "\n",
      "\n",
      "job description text:\n",
      "Excellence in extracting meaningful science - relevant conclusions ,  identifying driving features ,  and performing relevant tradeoff analyses that inform data exploration ,  build intuition ,  and address specific mission needs .\n",
      "\n",
      "most similar meaning in resume lines:\n",
      "Taught geologists ,  engineers ,  and other disciplines geology for 4 years in classroom and field setting .\n",
      "\n",
      "similarity: 0.7539781\n",
      "\n",
      "\n",
      "job description text:\n",
      "Deep expertise in and dedication to rigorous validation and explainability for all analyses .\n",
      "\n",
      "most similar meaning in resume lines:\n",
      "Computer Language ,  Database ,  Web - development  &  Machine - Learning Skills :  Language Databases Python ,  JavaScript ,  R ,  Java ,  Bash ,  PostgreSQL ,  Neo4J ,   &  AWS cloud system admin .\n",
      "\n",
      "similarity: 0.6127038\n",
      "\n",
      "\n",
      "job description text:\n",
      "Strong written and oral communication skills including data visualization ,  presentation ,  and explanation of results .\n",
      "\n",
      "most similar meaning in resume lines:\n",
      "Extensive record of generating new ideas ,  formulating strategy ,  and collaborating across organizational boundaries to deliver on objectives .\n",
      "\n",
      "similarity: 0.78247577\n",
      "\n",
      "\n",
      "job description text:\n",
      "Team - building mentality ,  can - do attitude ,  and relentless commitment to project success .\n",
      "\n",
      "most similar meaning in resume lines:\n",
      "Computer Language ,  Database ,  Web - development  &  Machine - Learning Skills :  Language Databases Python ,  JavaScript ,  R ,  Java ,  Bash ,  PostgreSQL ,  Neo4J ,   &  AWS cloud system admin .\n",
      "\n",
      "similarity: 0.6912582\n",
      "\n",
      "\n",
      "job description text:\n",
      "Significant programming experience with Python including NumPy  /  scikit - learn with high productivity .\n",
      "\n",
      "most similar meaning in resume lines:\n",
      "Applied geostatistics in 3D model simulations of fluid flow  &  resource size used in billion - dollar investment decision .\n",
      "\n",
      "similarity: 0.69415987\n",
      "\n",
      "\n",
      "job description text:\n",
      "Experience with software engineering best practices including unit and regression testing .\n",
      "\n",
      "most similar meaning in resume lines:\n",
      "Extensive record of generating new ideas ,  formulating strategy ,  and collaborating across organizational boundaries to deliver on objectives .\n",
      "\n",
      "similarity: 0.75177425\n",
      "\n",
      "\n",
      "job description text:\n",
      "Optimizing and delivering algorithms to onboard ,  large - scale computing ,  or real - time critical systems .\n",
      "\n",
      "most similar meaning in resume lines:\n",
      "Applied geostatistics in 3D model simulations of fluid flow  &  resource size used in billion - dollar investment decision .\n",
      "\n",
      "similarity: 0.75698256\n",
      "\n",
      "\n"
     ]
    }
   ],
   "source": [
    "for n in range(0,34):\n",
    "    get_most_similar_lines_printed(scorecard_results,n)"
   ]
  },
  {
   "cell_type": "markdown",
   "metadata": {},
   "source": [
    "### Results are....... not great"
   ]
  },
  {
   "cell_type": "markdown",
   "metadata": {},
   "source": [
    "Some of the poorer performing lines are due to just not having a great match in the limited set of lines I supplied for the resume side. If I was doing this for real, I'd probably want to feed it every resume I've every written and then some. \n",
    "\n",
    "Other poorer selections had, in my mind at least, better choice available suggesting the limits of this quick of an approach."
   ]
  }
 ],
 "metadata": {
  "kernelspec": {
   "display_name": "Python [conda env:inferSent] *",
   "language": "python",
   "name": "conda-env-inferSent-py"
  },
  "language_info": {
   "codemirror_mode": {
    "name": "ipython",
    "version": 3
   },
   "file_extension": ".py",
   "mimetype": "text/x-python",
   "name": "python",
   "nbconvert_exporter": "python",
   "pygments_lexer": "ipython3",
   "version": "3.6.10"
  }
 },
 "nbformat": 4,
 "nbformat_minor": 4
}
